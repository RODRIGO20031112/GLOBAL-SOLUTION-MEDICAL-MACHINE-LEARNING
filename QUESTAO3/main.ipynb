{
 "cells": [
  {
   "cell_type": "markdown",
   "metadata": {},
   "source": [
    "- Rodrigo Bianco De Carvalho - RM: 96978.\n",
    "- Sean Sato - RM: 96410.\n",
    "- Matheus Ferreira - RM: 96727.\n",
    "- Rodrigo Zara - RM: 97172.\n",
    "- Lucas Segantini - RM: 96792."
   ]
  },
  {
   "cell_type": "markdown",
   "metadata": {},
   "source": [
    "# Questão 03 (30 pontos)\n",
    "\n",
    "Crie um modelo de classificação utilizando Redes Neurais, preferencialmente usando o framework Keras,\n",
    "do Tensorflow. Avalie o modelo, apresente métricas e testes de predição do modelo."
   ]
  },
  {
   "cell_type": "markdown",
   "metadata": {},
   "source": [
    "# Use o Python 3.9.0 para instalar as libs"
   ]
  },
  {
   "cell_type": "code",
   "execution_count": 1,
   "metadata": {},
   "outputs": [
    {
     "name": "stdout",
     "output_type": "stream",
     "text": [
      "WARNING:tensorflow:From c:\\Users\\USER\\AppData\\Local\\Programs\\Python\\Python39\\lib\\site-packages\\keras\\src\\losses.py:2976: The name tf.losses.sparse_softmax_cross_entropy is deprecated. Please use tf.compat.v1.losses.sparse_softmax_cross_entropy instead.\n",
      "\n"
     ]
    }
   ],
   "source": [
    "import numpy as np\n",
    "import tensorflow as tf\n",
    "from sklearn.model_selection import train_test_split\n",
    "from sklearn.preprocessing import StandardScaler\n",
    "from sklearn.datasets import load_breast_cancer\n",
    "from sklearn.metrics import accuracy_score, classification_report\n",
    "from tensorflow.keras.models import Sequential\n",
    "from tensorflow.keras.layers import Dense, Dropout\n",
    "from tensorflow.keras import regularizers"
   ]
  },
  {
   "cell_type": "code",
   "execution_count": 2,
   "metadata": {},
   "outputs": [],
   "source": [
    "# Carregando o conjunto de dados de câncer de mama\n",
    "data_cancer = load_breast_cancer()\n",
    "X_cancer, y_cancer = data_cancer.data, data_cancer.target\n",
    "\n",
    "# Dividindo o conjunto de dados em treino e teste\n",
    "X_train_cancer, X_test_cancer, y_train_cancer, y_test_cancer = train_test_split(\n",
    "    X_cancer, y_cancer, test_size=0.2, random_state=42\n",
    ")"
   ]
  },
  {
   "cell_type": "code",
   "execution_count": 3,
   "metadata": {},
   "outputs": [],
   "source": [
    "# Normalizando os dados\n",
    "scaler_cancer = StandardScaler()\n",
    "X_train_cancer = scaler_cancer.fit_transform(X_train_cancer)\n",
    "X_test_cancer = scaler_cancer.transform(X_test_cancer)"
   ]
  },
  {
   "cell_type": "code",
   "execution_count": 4,
   "metadata": {},
   "outputs": [
    {
     "name": "stdout",
     "output_type": "stream",
     "text": [
      "WARNING:tensorflow:From c:\\Users\\USER\\AppData\\Local\\Programs\\Python\\Python39\\lib\\site-packages\\keras\\src\\backend.py:873: The name tf.get_default_graph is deprecated. Please use tf.compat.v1.get_default_graph instead.\n",
      "\n"
     ]
    }
   ],
   "source": [
    "# Construindo o modelo de classificação com Keras\n",
    "model_cancer = Sequential([\n",
    "    Dense(128, activation='relu', kernel_regularizer=regularizers.l2(0.01), input_shape=(X_train_cancer.shape[1],)),\n",
    "    Dropout(0.5),\n",
    "    Dense(64, activation='relu', kernel_regularizer=regularizers.l2(0.01)),\n",
    "    Dropout(0.3),\n",
    "    Dense(1, activation='sigmoid')  # Camada de saída para classificação binária\n",
    "])"
   ]
  },
  {
   "cell_type": "code",
   "execution_count": 5,
   "metadata": {},
   "outputs": [
    {
     "name": "stdout",
     "output_type": "stream",
     "text": [
      "WARNING:tensorflow:From c:\\Users\\USER\\AppData\\Local\\Programs\\Python\\Python39\\lib\\site-packages\\keras\\src\\optimizers\\__init__.py:309: The name tf.train.Optimizer is deprecated. Please use tf.compat.v1.train.Optimizer instead.\n",
      "\n"
     ]
    }
   ],
   "source": [
    "# Compilando o modelo\n",
    "model_cancer.compile(optimizer='adam', loss='binary_crossentropy', metrics=['accuracy'])"
   ]
  },
  {
   "cell_type": "code",
   "execution_count": 6,
   "metadata": {},
   "outputs": [
    {
     "name": "stdout",
     "output_type": "stream",
     "text": [
      "Epoch 1/50\n",
      "WARNING:tensorflow:From c:\\Users\\USER\\AppData\\Local\\Programs\\Python\\Python39\\lib\\site-packages\\keras\\src\\utils\\tf_utils.py:492: The name tf.ragged.RaggedTensorValue is deprecated. Please use tf.compat.v1.ragged.RaggedTensorValue instead.\n",
      "\n",
      "WARNING:tensorflow:From c:\\Users\\USER\\AppData\\Local\\Programs\\Python\\Python39\\lib\\site-packages\\keras\\src\\engine\\base_layer_utils.py:384: The name tf.executing_eagerly_outside_functions is deprecated. Please use tf.compat.v1.executing_eagerly_outside_functions instead.\n",
      "\n",
      "12/12 [==============================] - 1s 13ms/step - loss: 1.8272 - accuracy: 0.7665 - val_loss: 1.5669 - val_accuracy: 0.9121\n",
      "Epoch 2/50\n",
      "12/12 [==============================] - 0s 3ms/step - loss: 1.5221 - accuracy: 0.9203 - val_loss: 1.3838 - val_accuracy: 0.9451\n",
      "Epoch 3/50\n",
      "12/12 [==============================] - 0s 3ms/step - loss: 1.3572 - accuracy: 0.9368 - val_loss: 1.2602 - val_accuracy: 0.9451\n",
      "Epoch 4/50\n",
      "12/12 [==============================] - 0s 3ms/step - loss: 1.2239 - accuracy: 0.9505 - val_loss: 1.1532 - val_accuracy: 0.9451\n",
      "Epoch 5/50\n",
      "12/12 [==============================] - 0s 3ms/step - loss: 1.1102 - accuracy: 0.9533 - val_loss: 1.0572 - val_accuracy: 0.9451\n",
      "Epoch 6/50\n",
      "12/12 [==============================] - 0s 3ms/step - loss: 1.0124 - accuracy: 0.9588 - val_loss: 0.9683 - val_accuracy: 0.9560\n",
      "Epoch 7/50\n",
      "12/12 [==============================] - 0s 3ms/step - loss: 0.9258 - accuracy: 0.9670 - val_loss: 0.8862 - val_accuracy: 0.9560\n",
      "Epoch 8/50\n",
      "12/12 [==============================] - 0s 3ms/step - loss: 0.8502 - accuracy: 0.9698 - val_loss: 0.8128 - val_accuracy: 0.9560\n",
      "Epoch 9/50\n",
      "12/12 [==============================] - 0s 3ms/step - loss: 0.7623 - accuracy: 0.9808 - val_loss: 0.7462 - val_accuracy: 0.9670\n",
      "Epoch 10/50\n",
      "12/12 [==============================] - 0s 3ms/step - loss: 0.7124 - accuracy: 0.9780 - val_loss: 0.6871 - val_accuracy: 0.9670\n",
      "Epoch 11/50\n",
      "12/12 [==============================] - 0s 3ms/step - loss: 0.6437 - accuracy: 0.9780 - val_loss: 0.6336 - val_accuracy: 0.9670\n",
      "Epoch 12/50\n",
      "12/12 [==============================] - 0s 3ms/step - loss: 0.5834 - accuracy: 0.9808 - val_loss: 0.5845 - val_accuracy: 0.9670\n",
      "Epoch 13/50\n",
      "12/12 [==============================] - 0s 3ms/step - loss: 0.5375 - accuracy: 0.9835 - val_loss: 0.5403 - val_accuracy: 0.9670\n",
      "Epoch 14/50\n",
      "12/12 [==============================] - 0s 3ms/step - loss: 0.4961 - accuracy: 0.9835 - val_loss: 0.5011 - val_accuracy: 0.9670\n",
      "Epoch 15/50\n",
      "12/12 [==============================] - 0s 3ms/step - loss: 0.4508 - accuracy: 0.9835 - val_loss: 0.4653 - val_accuracy: 0.9670\n",
      "Epoch 16/50\n",
      "12/12 [==============================] - 0s 3ms/step - loss: 0.4129 - accuracy: 0.9863 - val_loss: 0.4308 - val_accuracy: 0.9560\n",
      "Epoch 17/50\n",
      "12/12 [==============================] - 0s 3ms/step - loss: 0.3863 - accuracy: 0.9863 - val_loss: 0.4015 - val_accuracy: 0.9560\n",
      "Epoch 18/50\n",
      "12/12 [==============================] - 0s 3ms/step - loss: 0.3589 - accuracy: 0.9835 - val_loss: 0.3717 - val_accuracy: 0.9560\n",
      "Epoch 19/50\n",
      "12/12 [==============================] - 0s 3ms/step - loss: 0.3332 - accuracy: 0.9863 - val_loss: 0.3481 - val_accuracy: 0.9560\n",
      "Epoch 20/50\n",
      "12/12 [==============================] - 0s 3ms/step - loss: 0.3049 - accuracy: 0.9918 - val_loss: 0.3267 - val_accuracy: 0.9560\n",
      "Epoch 21/50\n",
      "12/12 [==============================] - 0s 3ms/step - loss: 0.2793 - accuracy: 0.9835 - val_loss: 0.3089 - val_accuracy: 0.9560\n",
      "Epoch 22/50\n",
      "12/12 [==============================] - 0s 3ms/step - loss: 0.2665 - accuracy: 0.9863 - val_loss: 0.2927 - val_accuracy: 0.9560\n",
      "Epoch 23/50\n",
      "12/12 [==============================] - 0s 3ms/step - loss: 0.2522 - accuracy: 0.9863 - val_loss: 0.2764 - val_accuracy: 0.9670\n",
      "Epoch 24/50\n",
      "12/12 [==============================] - 0s 3ms/step - loss: 0.2269 - accuracy: 0.9918 - val_loss: 0.2623 - val_accuracy: 0.9560\n",
      "Epoch 25/50\n",
      "12/12 [==============================] - 0s 3ms/step - loss: 0.2205 - accuracy: 0.9918 - val_loss: 0.2492 - val_accuracy: 0.9560\n",
      "Epoch 26/50\n",
      "12/12 [==============================] - 0s 4ms/step - loss: 0.2107 - accuracy: 0.9808 - val_loss: 0.2393 - val_accuracy: 0.9560\n",
      "Epoch 27/50\n",
      "12/12 [==============================] - 0s 3ms/step - loss: 0.1958 - accuracy: 0.9863 - val_loss: 0.2289 - val_accuracy: 0.9560\n",
      "Epoch 28/50\n",
      "12/12 [==============================] - 0s 3ms/step - loss: 0.1872 - accuracy: 0.9890 - val_loss: 0.2181 - val_accuracy: 0.9670\n",
      "Epoch 29/50\n",
      "12/12 [==============================] - 0s 3ms/step - loss: 0.1724 - accuracy: 0.9918 - val_loss: 0.2110 - val_accuracy: 0.9670\n",
      "Epoch 30/50\n",
      "12/12 [==============================] - 0s 3ms/step - loss: 0.1705 - accuracy: 0.9890 - val_loss: 0.2032 - val_accuracy: 0.9560\n",
      "Epoch 31/50\n",
      "12/12 [==============================] - 0s 3ms/step - loss: 0.1599 - accuracy: 0.9890 - val_loss: 0.1992 - val_accuracy: 0.9560\n",
      "Epoch 32/50\n",
      "12/12 [==============================] - 0s 3ms/step - loss: 0.1549 - accuracy: 0.9890 - val_loss: 0.1953 - val_accuracy: 0.9451\n",
      "Epoch 33/50\n",
      "12/12 [==============================] - 0s 3ms/step - loss: 0.1490 - accuracy: 0.9890 - val_loss: 0.1880 - val_accuracy: 0.9451\n",
      "Epoch 34/50\n",
      "12/12 [==============================] - 0s 3ms/step - loss: 0.1395 - accuracy: 0.9918 - val_loss: 0.1811 - val_accuracy: 0.9560\n",
      "Epoch 35/50\n",
      "12/12 [==============================] - 0s 3ms/step - loss: 0.1378 - accuracy: 0.9945 - val_loss: 0.1768 - val_accuracy: 0.9560\n",
      "Epoch 36/50\n",
      "12/12 [==============================] - 0s 3ms/step - loss: 0.1347 - accuracy: 0.9890 - val_loss: 0.1741 - val_accuracy: 0.9451\n",
      "Epoch 37/50\n",
      "12/12 [==============================] - 0s 3ms/step - loss: 0.1356 - accuracy: 0.9918 - val_loss: 0.1728 - val_accuracy: 0.9451\n",
      "Epoch 38/50\n",
      "12/12 [==============================] - 0s 3ms/step - loss: 0.1306 - accuracy: 0.9835 - val_loss: 0.1673 - val_accuracy: 0.9560\n",
      "Epoch 39/50\n",
      "12/12 [==============================] - 0s 3ms/step - loss: 0.1198 - accuracy: 0.9890 - val_loss: 0.1617 - val_accuracy: 0.9560\n",
      "Epoch 40/50\n",
      "12/12 [==============================] - 0s 3ms/step - loss: 0.1245 - accuracy: 0.9863 - val_loss: 0.1621 - val_accuracy: 0.9560\n",
      "Epoch 41/50\n",
      "12/12 [==============================] - 0s 3ms/step - loss: 0.1191 - accuracy: 0.9835 - val_loss: 0.1608 - val_accuracy: 0.9451\n",
      "Epoch 42/50\n",
      "12/12 [==============================] - 0s 3ms/step - loss: 0.1151 - accuracy: 0.9890 - val_loss: 0.1568 - val_accuracy: 0.9560\n",
      "Epoch 43/50\n",
      "12/12 [==============================] - 0s 3ms/step - loss: 0.1190 - accuracy: 0.9918 - val_loss: 0.1576 - val_accuracy: 0.9451\n",
      "Epoch 44/50\n",
      "12/12 [==============================] - 0s 3ms/step - loss: 0.1090 - accuracy: 0.9890 - val_loss: 0.1527 - val_accuracy: 0.9451\n",
      "Epoch 45/50\n",
      "12/12 [==============================] - 0s 3ms/step - loss: 0.1058 - accuracy: 0.9890 - val_loss: 0.1520 - val_accuracy: 0.9560\n",
      "Epoch 46/50\n",
      "12/12 [==============================] - 0s 3ms/step - loss: 0.1124 - accuracy: 0.9808 - val_loss: 0.1505 - val_accuracy: 0.9560\n",
      "Epoch 47/50\n",
      "12/12 [==============================] - 0s 3ms/step - loss: 0.1017 - accuracy: 0.9890 - val_loss: 0.1482 - val_accuracy: 0.9560\n",
      "Epoch 48/50\n",
      "12/12 [==============================] - 0s 3ms/step - loss: 0.0963 - accuracy: 0.9863 - val_loss: 0.1482 - val_accuracy: 0.9341\n",
      "Epoch 49/50\n",
      "12/12 [==============================] - 0s 3ms/step - loss: 0.0968 - accuracy: 0.9945 - val_loss: 0.1472 - val_accuracy: 0.9451\n",
      "Epoch 50/50\n",
      "12/12 [==============================] - 0s 3ms/step - loss: 0.0974 - accuracy: 0.9918 - val_loss: 0.1489 - val_accuracy: 0.9451\n"
     ]
    }
   ],
   "source": [
    "# Treinando o modelo\n",
    "history_cancer = model_cancer.fit(X_train_cancer, y_train_cancer, epochs=50, batch_size=32, validation_split=0.2)"
   ]
  },
  {
   "cell_type": "code",
   "execution_count": 7,
   "metadata": {},
   "outputs": [
    {
     "name": "stdout",
     "output_type": "stream",
     "text": [
      "4/4 [==============================] - 0s 1000us/step\n"
     ]
    }
   ],
   "source": [
    "# Avaliando o modelo no conjunto de teste\n",
    "y_pred_cancer = model_cancer.predict(X_test_cancer)\n",
    "y_pred_class_cancer = (y_pred_cancer > 0.5).astype(int)"
   ]
  },
  {
   "cell_type": "code",
   "execution_count": 11,
   "metadata": {},
   "outputs": [
    {
     "name": "stdout",
     "output_type": "stream",
     "text": [
      "Acurácia: 97.36842105263158%\n",
      "Relatório de Classificação:\n",
      "              precision    recall  f1-score   support\n",
      "\n",
      "           0       0.98      0.95      0.96        43\n",
      "           1       0.97      0.99      0.98        71\n",
      "\n",
      "    accuracy                           0.97       114\n",
      "   macro avg       0.97      0.97      0.97       114\n",
      "weighted avg       0.97      0.97      0.97       114\n",
      "\n"
     ]
    }
   ],
   "source": [
    "# Métricas de avaliação\n",
    "accuracy_cancer = accuracy_score(y_test_cancer, y_pred_class_cancer)\n",
    "report_cancer = classification_report(y_test_cancer, y_pred_class_cancer)\n",
    "\n",
    "print(f'Acurácia: {accuracy_cancer * 100}%')\n",
    "print(f'Relatório de Classificação:\\n{report_cancer}')"
   ]
  }
 ],
 "metadata": {
  "kernelspec": {
   "display_name": "Python 3",
   "language": "python",
   "name": "python3"
  },
  "language_info": {
   "codemirror_mode": {
    "name": "ipython",
    "version": 3
   },
   "file_extension": ".py",
   "mimetype": "text/x-python",
   "name": "python",
   "nbconvert_exporter": "python",
   "pygments_lexer": "ipython3",
   "version": "3.9.0"
  }
 },
 "nbformat": 4,
 "nbformat_minor": 2
}
